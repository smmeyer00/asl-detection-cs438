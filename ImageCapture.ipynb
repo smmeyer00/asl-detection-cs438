{
 "cells": [
  {
   "cell_type": "code",
   "execution_count": 1,
   "metadata": {},
   "outputs": [
    {
     "name": "stdout",
     "output_type": "stream",
     "text": [
      "Collecting images for hello\n"
     ]
    },
    {
     "ename": "KeyboardInterrupt",
     "evalue": "",
     "output_type": "error",
     "traceback": [
      "\u001b[0;31m---------------------------------------------------------------------------\u001b[0m",
      "\u001b[0;31mKeyboardInterrupt\u001b[0m                         Traceback (most recent call last)",
      "\u001b[1;32m/Users/jonahwiggenhorn/Documents/repos/AslDetection/ImageCapture.ipynb Cell 1'\u001b[0m in \u001b[0;36m<cell line: 11>\u001b[0;34m()\u001b[0m\n\u001b[1;32m     <a href='vscode-notebook-cell:/Users/jonahwiggenhorn/Documents/repos/AslDetection/ImageCapture.ipynb#ch0000000?line=19'>20</a>\u001b[0m     cv2\u001b[39m.\u001b[39mimwrite(imgname, frame)\n\u001b[1;32m     <a href='vscode-notebook-cell:/Users/jonahwiggenhorn/Documents/repos/AslDetection/ImageCapture.ipynb#ch0000000?line=20'>21</a>\u001b[0m     cv2\u001b[39m.\u001b[39mimshow(\u001b[39m'\u001b[39m\u001b[39mframe\u001b[39m\u001b[39m'\u001b[39m, frame)\n\u001b[0;32m---> <a href='vscode-notebook-cell:/Users/jonahwiggenhorn/Documents/repos/AslDetection/ImageCapture.ipynb#ch0000000?line=21'>22</a>\u001b[0m     time\u001b[39m.\u001b[39;49msleep(\u001b[39m2\u001b[39;49m)\n\u001b[1;32m     <a href='vscode-notebook-cell:/Users/jonahwiggenhorn/Documents/repos/AslDetection/ImageCapture.ipynb#ch0000000?line=22'>23</a>\u001b[0m cap\u001b[39m.\u001b[39mrelease()\n",
      "\u001b[0;31mKeyboardInterrupt\u001b[0m: "
     ]
    }
   ],
   "source": [
    "import cv2 #opencv\n",
    "import os\n",
    "import time\n",
    "import uuid\n",
    "\n",
    "IMAGES_PATH = 'Tensorflow/workspace/images/collectedimages'\n",
    "\n",
    "labels = ['hello', 'thanks', 'yes', 'no', 'iloveyou']\n",
    "number_imgs = 15\n",
    "\n",
    "for label in labels:\n",
    "    if not os.path.exists(f'{IMAGES_PATH}/{label}'):\n",
    "        os.makedirs(f'{IMAGES_PATH}/{label}')\n",
    "    cap = cv2.VideoCapture(0)\n",
    "    print(f'Collecting images for {label}')\n",
    "    time.sleep(5)\n",
    "    for imgname in range(number_imgs):\n",
    "        ret, frame = cap.read()\n",
    "        imgname = os.path.join(IMAGES_PATH, label, label + f'.{str(uuid.uuid1())}.jpg')\n",
    "        cv2.imwrite(imgname, frame)\n",
    "        cv2.imshow('frame', frame)\n",
    "        time.sleep(2)\n",
    "    cap.release()"
   ]
  }
 ],
 "metadata": {
  "interpreter": {
   "hash": "31f2aee4e71d21fbe5cf8b01ff0e069b9275f58929596ceb00d14d90e3e16cd6"
  },
  "kernelspec": {
   "display_name": "Python 3.8.2 64-bit",
   "language": "python",
   "name": "python3"
  },
  "language_info": {
   "codemirror_mode": {
    "name": "ipython",
    "version": 3
   },
   "file_extension": ".py",
   "mimetype": "text/x-python",
   "name": "python",
   "nbconvert_exporter": "python",
   "pygments_lexer": "ipython3",
   "version": "3.8.2"
  },
  "orig_nbformat": 4
 },
 "nbformat": 4,
 "nbformat_minor": 2
}
